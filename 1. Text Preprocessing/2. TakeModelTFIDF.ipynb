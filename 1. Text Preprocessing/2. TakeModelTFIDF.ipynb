{
 "cells": [
  {
   "cell_type": "markdown",
   "id": "4cf25b69",
   "metadata": {},
   "source": [
    "### Project ini adalah Text Preprocessing untuk mengambil model tf-idf\n",
    "### Sekaligus Prototipe untuk Melakukan Sistem Rekomendasi User To Item"
   ]
  },
  {
   "cell_type": "code",
   "execution_count": 1,
   "id": "6dc4cd6f",
   "metadata": {},
   "outputs": [],
   "source": [
    "import pandas as pd\n",
    "df_wisata = pd.read_csv(\"../0. Dataset/Dataset_Toba_Text_Processed.csv\")\n",
    "df_history = pd.read_csv(\"../0. Dataset/userHistory.csv\")"
   ]
  },
  {
   "cell_type": "code",
   "execution_count": 2,
   "id": "c3d4d826",
   "metadata": {},
   "outputs": [],
   "source": [
    "from sklearn.feature_extraction.text import TfidfVectorizer\n",
    "\n",
    "tfidf = TfidfVectorizer()\n",
    "tfidf_matrix = tfidf.fit_transform(df_wisata['tags_joined'])\n"
   ]
  },
  {
   "cell_type": "code",
   "execution_count": 3,
   "id": "787049ea",
   "metadata": {},
   "outputs": [
    {
     "name": "stdout",
     "output_type": "stream",
     "text": [
      "TfidfVectorizer()\n"
     ]
    }
   ],
   "source": [
    "print(tfidf)"
   ]
  },
  {
   "cell_type": "code",
   "execution_count": 4,
   "id": "a4a2301c",
   "metadata": {},
   "outputs": [],
   "source": [
    "import pickle\n",
    "from scipy.sparse import save_npz\n",
    "\n",
    "# with open(\"./Save Model/tfidf_vectorizer.pkl\", \"wb\") as f:\n",
    "#     pickle.dump(tfidf, f)\n",
    "\n",
    "save_npz(\"./Save Model/tfidf_matrix.npz\", tfidf_matrix)\n"
   ]
  },
  {
   "cell_type": "code",
   "execution_count": 5,
   "id": "ef9e4114",
   "metadata": {},
   "outputs": [
    {
     "data": {
      "text/html": [
       "<div>\n",
       "<style scoped>\n",
       "    .dataframe tbody tr th:only-of-type {\n",
       "        vertical-align: middle;\n",
       "    }\n",
       "\n",
       "    .dataframe tbody tr th {\n",
       "        vertical-align: top;\n",
       "    }\n",
       "\n",
       "    .dataframe thead th {\n",
       "        text-align: right;\n",
       "    }\n",
       "</style>\n",
       "<table border=\"1\" class=\"dataframe\">\n",
       "  <thead>\n",
       "    <tr style=\"text-align: right;\">\n",
       "      <th></th>\n",
       "      <th>userID</th>\n",
       "      <th>namaWisata</th>\n",
       "    </tr>\n",
       "  </thead>\n",
       "  <tbody>\n",
       "    <tr>\n",
       "      <th>0</th>\n",
       "      <td>1</td>\n",
       "      <td>Hill of Gibeon</td>\n",
       "    </tr>\n",
       "    <tr>\n",
       "      <th>1</th>\n",
       "      <td>1</td>\n",
       "      <td>Bukit Indah Sitalmak Talmak Sihotang</td>\n",
       "    </tr>\n",
       "    <tr>\n",
       "      <th>2</th>\n",
       "      <td>1</td>\n",
       "      <td>Bukit Senyum</td>\n",
       "    </tr>\n",
       "    <tr>\n",
       "      <th>3</th>\n",
       "      <td>1</td>\n",
       "      <td>Bukit Beta Tuk-tuk</td>\n",
       "    </tr>\n",
       "    <tr>\n",
       "      <th>4</th>\n",
       "      <td>2</td>\n",
       "      <td>Pantai Batuhoda</td>\n",
       "    </tr>\n",
       "  </tbody>\n",
       "</table>\n",
       "</div>"
      ],
      "text/plain": [
       "   userID                            namaWisata\n",
       "0       1                        Hill of Gibeon\n",
       "1       1  Bukit Indah Sitalmak Talmak Sihotang\n",
       "2       1                          Bukit Senyum\n",
       "3       1                    Bukit Beta Tuk-tuk\n",
       "4       2                       Pantai Batuhoda"
      ]
     },
     "execution_count": 5,
     "metadata": {},
     "output_type": "execute_result"
    }
   ],
   "source": [
    "user_id = 1\n",
    "user_history = df_history[df_history['userID'] == user_id]['namaWisata'].tolist()\n",
    "# df_wisata.head()\n",
    "df_history.head()"
   ]
  },
  {
   "cell_type": "code",
   "execution_count": 6,
   "id": "4f78911d",
   "metadata": {},
   "outputs": [
    {
     "data": {
      "text/html": [
       "<div>\n",
       "<style scoped>\n",
       "    .dataframe tbody tr th:only-of-type {\n",
       "        vertical-align: middle;\n",
       "    }\n",
       "\n",
       "    .dataframe tbody tr th {\n",
       "        vertical-align: top;\n",
       "    }\n",
       "\n",
       "    .dataframe thead th {\n",
       "        text-align: right;\n",
       "    }\n",
       "</style>\n",
       "<table border=\"1\" class=\"dataframe\">\n",
       "  <thead>\n",
       "    <tr style=\"text-align: right;\">\n",
       "      <th></th>\n",
       "      <th>title</th>\n",
       "      <th>link</th>\n",
       "      <th>image_url</th>\n",
       "      <th>rating</th>\n",
       "      <th>reviews</th>\n",
       "      <th>address</th>\n",
       "      <th>opening_hours</th>\n",
       "      <th>latitude</th>\n",
       "      <th>longitude</th>\n",
       "      <th>kategori</th>\n",
       "      <th>aktivitas</th>\n",
       "      <th>deskripsi</th>\n",
       "      <th>kecamatan</th>\n",
       "      <th>biaya_masuk</th>\n",
       "      <th>biaya_parkir_motor</th>\n",
       "      <th>biaya_parkir_mobil</th>\n",
       "      <th>tags_joined</th>\n",
       "    </tr>\n",
       "  </thead>\n",
       "  <tbody>\n",
       "    <tr>\n",
       "      <th>0</th>\n",
       "      <td>Hill of Gibeon</td>\n",
       "      <td>https://www.google.com/maps/place/Hill+of+Gibe...</td>\n",
       "      <td>https://drive.google.com/drive/folders/1AVbEcO...</td>\n",
       "      <td>4.5</td>\n",
       "      <td>457</td>\n",
       "      <td>Kabupaten Toba Samosir, 21174, Sionggang Utara...</td>\n",
       "      <td>Open 24 hours</td>\n",
       "      <td>2.590898</td>\n",
       "      <td>98.9978849865071</td>\n",
       "      <td>Alam</td>\n",
       "      <td>Aktivitas Air, Berenang, Pemandangan, Santai, ...</td>\n",
       "      <td>Terletak di Kabupaten Toba, Sumatera Utara, Bu...</td>\n",
       "      <td>Lumban Julu</td>\n",
       "      <td>10000</td>\n",
       "      <td>2000</td>\n",
       "      <td>5000</td>\n",
       "      <td>aktivitas air berenang pemandangan santai foto...</td>\n",
       "    </tr>\n",
       "  </tbody>\n",
       "</table>\n",
       "</div>"
      ],
      "text/plain": [
       "            title                                               link  \\\n",
       "0  Hill of Gibeon  https://www.google.com/maps/place/Hill+of+Gibe...   \n",
       "\n",
       "                                           image_url  rating  reviews  \\\n",
       "0  https://drive.google.com/drive/folders/1AVbEcO...     4.5      457   \n",
       "\n",
       "                                             address  opening_hours  latitude  \\\n",
       "0  Kabupaten Toba Samosir, 21174, Sionggang Utara...  Open 24 hours  2.590898   \n",
       "\n",
       "          longitude kategori  \\\n",
       "0  98.9978849865071     Alam   \n",
       "\n",
       "                                           aktivitas  \\\n",
       "0  Aktivitas Air, Berenang, Pemandangan, Santai, ...   \n",
       "\n",
       "                                           deskripsi    kecamatan  \\\n",
       "0  Terletak di Kabupaten Toba, Sumatera Utara, Bu...  Lumban Julu   \n",
       "\n",
       "   biaya_masuk  biaya_parkir_motor  biaya_parkir_mobil  \\\n",
       "0        10000                2000                5000   \n",
       "\n",
       "                                         tags_joined  \n",
       "0  aktivitas air berenang pemandangan santai foto...  "
      ]
     },
     "execution_count": 6,
     "metadata": {},
     "output_type": "execute_result"
    }
   ],
   "source": [
    "visited_wisata = df_wisata[df_wisata['title'].isin(user_history)]\n",
    "visited_wisata.head(1)"
   ]
  },
  {
   "cell_type": "code",
   "execution_count": 7,
   "id": "7a4002e8",
   "metadata": {},
   "outputs": [],
   "source": [
    "import numpy as np\n",
    "from sklearn.feature_extraction.text import TfidfVectorizer\n",
    "visited_indices = df_wisata[df_wisata['title'].isin(user_history)].index\n",
    "user_profile_matrix = tfidf_matrix[visited_indices].mean(axis=0)\n",
    "user_profile = np.asarray(user_profile_matrix).reshape(1, -1)"
   ]
  },
  {
   "cell_type": "code",
   "execution_count": 8,
   "id": "f8a7c783",
   "metadata": {},
   "outputs": [
    {
     "name": "stdout",
     "output_type": "stream",
     "text": [
      "(1, 921)\n"
     ]
    }
   ],
   "source": [
    "print(user_profile.shape)"
   ]
  },
  {
   "cell_type": "code",
   "execution_count": 9,
   "id": "563e3e22",
   "metadata": {},
   "outputs": [],
   "source": [
    "from sklearn.metrics.pairwise import cosine_similarity\n",
    "\n",
    "similarities = cosine_similarity(user_profile, tfidf_matrix)\n",
    "#print(similarities)"
   ]
  },
  {
   "cell_type": "code",
   "execution_count": 10,
   "id": "b62c07e4",
   "metadata": {},
   "outputs": [
    {
     "data": {
      "text/html": [
       "<div>\n",
       "<style scoped>\n",
       "    .dataframe tbody tr th:only-of-type {\n",
       "        vertical-align: middle;\n",
       "    }\n",
       "\n",
       "    .dataframe tbody tr th {\n",
       "        vertical-align: top;\n",
       "    }\n",
       "\n",
       "    .dataframe thead th {\n",
       "        text-align: right;\n",
       "    }\n",
       "</style>\n",
       "<table border=\"1\" class=\"dataframe\">\n",
       "  <thead>\n",
       "    <tr style=\"text-align: right;\">\n",
       "      <th></th>\n",
       "      <th>title</th>\n",
       "      <th>link</th>\n",
       "      <th>image_url</th>\n",
       "      <th>rating</th>\n",
       "      <th>reviews</th>\n",
       "      <th>address</th>\n",
       "      <th>opening_hours</th>\n",
       "      <th>latitude</th>\n",
       "      <th>longitude</th>\n",
       "      <th>kategori</th>\n",
       "      <th>aktivitas</th>\n",
       "      <th>deskripsi</th>\n",
       "      <th>kecamatan</th>\n",
       "      <th>biaya_masuk</th>\n",
       "      <th>biaya_parkir_motor</th>\n",
       "      <th>biaya_parkir_mobil</th>\n",
       "      <th>tags_joined</th>\n",
       "      <th>similarity</th>\n",
       "    </tr>\n",
       "  </thead>\n",
       "  <tbody>\n",
       "    <tr>\n",
       "      <th>0</th>\n",
       "      <td>Hill of Gibeon</td>\n",
       "      <td>https://www.google.com/maps/place/Hill+of+Gibe...</td>\n",
       "      <td>https://drive.google.com/drive/folders/1AVbEcO...</td>\n",
       "      <td>4.5</td>\n",
       "      <td>457</td>\n",
       "      <td>Kabupaten Toba Samosir, 21174, Sionggang Utara...</td>\n",
       "      <td>Open 24 hours</td>\n",
       "      <td>2.590898</td>\n",
       "      <td>98.9978849865071</td>\n",
       "      <td>Alam</td>\n",
       "      <td>Aktivitas Air, Berenang, Pemandangan, Santai, ...</td>\n",
       "      <td>Terletak di Kabupaten Toba, Sumatera Utara, Bu...</td>\n",
       "      <td>Lumban Julu</td>\n",
       "      <td>10000</td>\n",
       "      <td>2000</td>\n",
       "      <td>5000</td>\n",
       "      <td>aktivitas air berenang pemandangan santai foto...</td>\n",
       "      <td>0.617864</td>\n",
       "    </tr>\n",
       "  </tbody>\n",
       "</table>\n",
       "</div>"
      ],
      "text/plain": [
       "            title                                               link  \\\n",
       "0  Hill of Gibeon  https://www.google.com/maps/place/Hill+of+Gibe...   \n",
       "\n",
       "                                           image_url  rating  reviews  \\\n",
       "0  https://drive.google.com/drive/folders/1AVbEcO...     4.5      457   \n",
       "\n",
       "                                             address  opening_hours  latitude  \\\n",
       "0  Kabupaten Toba Samosir, 21174, Sionggang Utara...  Open 24 hours  2.590898   \n",
       "\n",
       "          longitude kategori  \\\n",
       "0  98.9978849865071     Alam   \n",
       "\n",
       "                                           aktivitas  \\\n",
       "0  Aktivitas Air, Berenang, Pemandangan, Santai, ...   \n",
       "\n",
       "                                           deskripsi    kecamatan  \\\n",
       "0  Terletak di Kabupaten Toba, Sumatera Utara, Bu...  Lumban Julu   \n",
       "\n",
       "   biaya_masuk  biaya_parkir_motor  biaya_parkir_mobil  \\\n",
       "0        10000                2000                5000   \n",
       "\n",
       "                                         tags_joined  similarity  \n",
       "0  aktivitas air berenang pemandangan santai foto...    0.617864  "
      ]
     },
     "execution_count": 10,
     "metadata": {},
     "output_type": "execute_result"
    }
   ],
   "source": [
    "\n",
    "similarities = similarities.flatten()\n",
    "#ngubah array multidimensi jadi 1 array\n",
    "df_wisata['similarity'] = similarities\n",
    "df_wisata.head(1)\n",
    "\n"
   ]
  },
  {
   "cell_type": "code",
   "execution_count": 11,
   "id": "b73020b9",
   "metadata": {},
   "outputs": [
    {
     "name": "stdout",
     "output_type": "stream",
     "text": [
      "                          title  similarity\n",
      "98           Bukit Cinta Harian    0.488195\n",
      "123            Bukit Sipatungan    0.484632\n",
      "60   Bukit Cinta Silahisabungan    0.420330\n",
      "18        Bukit Holbung Samosir    0.409342\n",
      "113                Bukit Pahoda    0.392595\n"
     ]
    }
   ],
   "source": [
    "# Hapus yang sudah dikunjungi\n",
    "rekomendasi = df_wisata[~df_wisata['title'].isin(user_history)]\n",
    "rekomendasi = rekomendasi.sort_values(by='similarity', ascending=False)\n",
    "\n",
    "# Tampilkan Top-N\n",
    "top_n = 5\n",
    "print(rekomendasi[['title', 'similarity']].head(top_n))"
   ]
  }
 ],
 "metadata": {
  "kernelspec": {
   "display_name": "Python 3",
   "language": "python",
   "name": "python3"
  },
  "language_info": {
   "codemirror_mode": {
    "name": "ipython",
    "version": 3
   },
   "file_extension": ".py",
   "mimetype": "text/x-python",
   "name": "python",
   "nbconvert_exporter": "python",
   "pygments_lexer": "ipython3",
   "version": "3.12.6"
  }
 },
 "nbformat": 4,
 "nbformat_minor": 5
}
