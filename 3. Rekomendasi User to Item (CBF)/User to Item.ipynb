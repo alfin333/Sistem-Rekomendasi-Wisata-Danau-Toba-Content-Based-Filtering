{
 "cells": [
  {
   "cell_type": "code",
   "execution_count": 1,
   "id": "adcecfe8",
   "metadata": {},
   "outputs": [
    {
     "name": "stdout",
     "output_type": "stream",
     "text": [
      "User dengan id = 2 Pernah mengunjungi: \n",
      "- Pantai Batuhoda\n",
      "- Pantai Sipinggan\n",
      "- Bukit Simargulang Ombun\n",
      "- Bukit Gajah Bobok\n",
      "- Bukit Sibeabea\n",
      "\n",
      " Wisata Yang Direkomendasikan Untuk User id = 2\n",
      "* Pantai Indah Situngkir (PIS) 0.38\n",
      "* Bukit Senyum 0.38\n",
      "* Pantai Ikan Mas Tandarabun 0.36\n",
      "* Bukit Beta Tuk-tuk 0.36\n",
      "* Bukit Holbung Samosir 0.34\n"
     ]
    }
   ],
   "source": [
    "import pandas as pd\n",
    "import numpy as np\n",
    "from scipy.sparse import load_npz\n",
    "from sklearn.metrics.pairwise import cosine_similarity\n",
    "\n",
    "\n",
    "tfidf_matrix = load_npz(\"tfidf_matrix.npz\")\n",
    "df_wisata = pd.read_csv(\"../0. Dataset/Dataset_Toba_Text_Processed.csv\")\n",
    "df_history = pd.read_csv(\"../0. Dataset/userHistory.csv\")\n",
    "\n",
    "# === Fungsi untuk rekomendasi berdasarkan user_id ===\n",
    "def recommend_for_user(user_id, top_n=5):\n",
    "    # Ambil nama wisata yang dikunjungi user\n",
    "    user_history = df_history[df_history['userID'] == user_id]['namaWisata'].tolist()\n",
    "    \n",
    "    # Ambil indeks wisata yang cocok di data utama\n",
    "    visited_indices = df_wisata[df_wisata['title'].isin(user_history)].index\n",
    "\n",
    "    if len(visited_indices) == 0:\n",
    "        return f\"Tidak ada data wisata cocok di history user {user_id}.\"\n",
    "\n",
    "    # Bangun profil user dari rata-rata TF-IDF wisata yang dikunjungi\n",
    "    user_profile_matrix = tfidf_matrix[visited_indices].mean(axis=0)\n",
    "    user_profile = np.asarray(user_profile_matrix).reshape(1, -1)\n",
    "\n",
    "    # Hitung similarity\n",
    "    similarities = cosine_similarity(user_profile, tfidf_matrix).flatten()\n",
    "\n",
    "    # tambah ke dataframe\n",
    "    df_wisata['similarity'] = similarities\n",
    "\n",
    "    # Bikin rekomendasi, kecuali yang sudah dikunjungi\n",
    "    rekomendasi = df_wisata[~df_wisata['title'].isin(user_history)]\n",
    "    rekomendasi = rekomendasi.sort_values(by='similarity', ascending=False)\n",
    "\n",
    "    return rekomendasi[['title', 'similarity']].head(top_n).to_numpy(), user_history\n",
    "\n",
    "# === Contoh penggunaan ===\n",
    "if __name__ == \"__main__\":\n",
    "    user_id = 2  # Ganti sesuai kebutuhan (PAKAI API)\n",
    "    result, user_history= recommend_for_user(user_id)\n",
    "    print(f'User dengan id = {user_id} Pernah mengunjungi: ')\n",
    "    for history in user_history:\n",
    "        print(f'- {history}')\n",
    "\n",
    "    print(f'\\n Wisata Yang Direkomendasikan Untuk User id = {user_id}')\n",
    "    for judul, skor in result:\n",
    "        print(f'* {judul} {skor:.2f}')\n"
   ]
  }
 ],
 "metadata": {
  "kernelspec": {
   "display_name": "Python 3",
   "language": "python",
   "name": "python3"
  },
  "language_info": {
   "codemirror_mode": {
    "name": "ipython",
    "version": 3
   },
   "file_extension": ".py",
   "mimetype": "text/x-python",
   "name": "python",
   "nbconvert_exporter": "python",
   "pygments_lexer": "ipython3",
   "version": "3.12.6"
  }
 },
 "nbformat": 4,
 "nbformat_minor": 5
}
