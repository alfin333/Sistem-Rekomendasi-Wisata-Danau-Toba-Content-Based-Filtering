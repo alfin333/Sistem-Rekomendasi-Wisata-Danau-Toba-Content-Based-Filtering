{
 "cells": [
  {
   "cell_type": "code",
   "execution_count": 1,
   "id": "4d0b101a",
   "metadata": {},
   "outputs": [
    {
     "name": "stdout",
     "output_type": "stream",
     "text": [
      "Rekomendasi untuk: Pantai Ikan Mas Tandarabun\n",
      "\n",
      "Sibolazi Beach (Bahari) - Similarity: 0.519\n",
      "Objek Wisata Pantai Paris (Bahari) - Similarity: 0.438\n",
      "pantai pasir putih (Bahari) - Similarity: 0.433\n",
      "Pantai Kenangan (Bahari) - Similarity: 0.408\n",
      "Pantai Indah Situngkir (PIS) (Bahari) - Similarity: 0.407\n"
     ]
    }
   ],
   "source": [
    "import pandas as pd\n",
    "import pickle\n",
    "\n",
    "df = pd.read_csv('../0. Dataset/Dataset_Toba_Text_Processed.csv')\n",
    "\n",
    "# load similarty matriks yang sudah disimpan tdi\n",
    "with open('similarity_matrix.pkl', 'rb') as f:\n",
    "    similarity_matrix = pickle.load(f)\n",
    "\n",
    "# fungsi rekomendasi\n",
    "def rekomendasi_tempat(nama_tempat, df, similarity_matrix, top_n=5):\n",
    "    if nama_tempat not in df['title'].values:\n",
    "        return f\"Tempat '{nama_tempat}' tidak ditemukan dalam data.\"\n",
    "    \n",
    "    idx = df[df['title'] == nama_tempat].index[0]\n",
    "    sim_scores = list(enumerate(similarity_matrix[idx]))\n",
    "    sim_scores = sorted(sim_scores, key=lambda x: x[1], reverse=True)\n",
    "    sim_scores = sim_scores[1:top_n+1]\n",
    "\n",
    "    rekomendasi = []\n",
    "    for i, score in sim_scores:\n",
    "        rekomendasi.append({\n",
    "            'title': df.iloc[i]['title'],\n",
    "            'kategori': df.iloc[i]['kategori'],\n",
    "            'similarity': round(score, 3)\n",
    "        })\n",
    "    \n",
    "    return rekomendasi\n",
    "\n",
    "# Contoh penggunaan\n",
    "if __name__ == \"__main__\":\n",
    "    nama_input = \"Pantai Ikan Mas Tandarabun\" #ini perlu API\n",
    "    hasil = rekomendasi_tempat(nama_input, df, similarity_matrix)\n",
    "    print(f\"Rekomendasi untuk: {nama_input}\\n\")\n",
    "    for r in hasil:\n",
    "        print(f\"{r['title']} ({r['kategori']}) - Similarity: {r['similarity']}\")\n"
   ]
  }
 ],
 "metadata": {
  "kernelspec": {
   "display_name": "Python 3",
   "language": "python",
   "name": "python3"
  },
  "language_info": {
   "codemirror_mode": {
    "name": "ipython",
    "version": 3
   },
   "file_extension": ".py",
   "mimetype": "text/x-python",
   "name": "python",
   "nbconvert_exporter": "python",
   "pygments_lexer": "ipython3",
   "version": "3.12.6"
  }
 },
 "nbformat": 4,
 "nbformat_minor": 5
}
